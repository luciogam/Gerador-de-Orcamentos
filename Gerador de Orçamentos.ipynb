{
 "cells": [
  {
   "cell_type": "code",
   "execution_count": 24,
   "metadata": {},
   "outputs": [
    {
     "name": "stdout",
     "output_type": "stream",
     "text": [
      "7500.0\n",
      "Orçamento gerado com sucesso!\n"
     ]
    }
   ],
   "source": [
    "#1. inserção de dados\n",
    "projeto = input(\"Digite a descrição do projeto:\")\n",
    "horas_estimadas = input(\"Digite a quantidade de horas previstas para o projeto:\")\n",
    "valor_hora = input(\"Digite o valor da hora trabalhada em reais:\")\n",
    "prazo_estimado = input(str(\"Digite o prazo estimado para entrega do projeto:\"))\n",
    "\n",
    "valor_total_estimado = int(horas_estimadas)*float(valor_hora)\n",
    "print(valor_total_estimado)\n",
    "\n",
    "#2. Baixar a biblioteca para pdf e configurá-la\n",
    "from fpdf import FPDF\n",
    "pdf = FPDF()\n",
    "pdf.add_page()\n",
    "pdf.set_font(\"Arial\")\n",
    "\n",
    "#3. Utilizar um template e inserir nele os dados\n",
    "pdf.image(\"Orçamento de Prestação de Serviços para Consultoria Jurídica.png\", x=0, y=0)\n",
    "\n",
    "pdf.text(107,175,projeto)\n",
    "pdf.text(107,203,horas_estimadas)\n",
    "pdf.text(107,230,valor_hora)\n",
    "pdf.text(107,256,prazo_estimado)\n",
    "pdf.text(107,278,str(valor_total_estimado))\n",
    "\n",
    "#4. Salvando o arquivo\n",
    "pdf.output(\"Orçamento Amaral Mota Advogados.pdf\")\n",
    "print(\"Orçamento gerado com sucesso!\")\n"
   ]
  }
 ],
 "metadata": {
  "kernelspec": {
   "display_name": "Python 3",
   "language": "python",
   "name": "python3"
  },
  "language_info": {
   "codemirror_mode": {
    "name": "ipython",
    "version": 3
   },
   "file_extension": ".py",
   "mimetype": "text/x-python",
   "name": "python",
   "nbconvert_exporter": "python",
   "pygments_lexer": "ipython3",
   "version": "3.11.3"
  },
  "orig_nbformat": 4
 },
 "nbformat": 4,
 "nbformat_minor": 2
}
